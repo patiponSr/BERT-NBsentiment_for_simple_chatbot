{
 "cells": [
  {
   "cell_type": "markdown",
   "id": "04301d89",
   "metadata": {},
   "source": [
    "Easy Chatbot for responses Mental Health"
   ]
  },
  {
   "cell_type": "code",
   "execution_count": 3,
   "id": "cd2d2afe",
   "metadata": {},
   "outputs": [
    {
     "name": "stderr",
     "output_type": "stream",
     "text": [
      "c:\\Users\\prig1\\miniconda3\\envs\\IRtest\\Lib\\site-packages\\tqdm\\auto.py:21: TqdmWarning: IProgress not found. Please update jupyter and ipywidgets. See https://ipywidgets.readthedocs.io/en/stable/user_install.html\n",
      "  from .autonotebook import tqdm as notebook_tqdm\n"
     ]
    }
   ],
   "source": [
    "from transformers import AutoModelForSequenceClassification, AutoTokenizer\n",
    "\n",
    "model = AutoModelForSequenceClassification.from_pretrained(\"bert_finetuned_new\")\n",
    "tokenizer = AutoTokenizer.from_pretrained(\"bert_finetuned_new\")"
   ]
  },
  {
   "cell_type": "code",
   "execution_count": 10,
   "id": "0f0e7c3c",
   "metadata": {},
   "outputs": [],
   "source": [
    "responses = {\n",
    "    \"Depression\": \"You might be feeling depressed. Try talking to someone close or consider seeking help from a professional 💙\",\n",
    "    \"Normal\": \"You seem to be mentally healthy at the moment 😊\",\n",
    "    \"Suicidal\": \"If you are having suicidal thoughts, please reach out for help immediately or contact a mental health hotline such as 1323 ⚠️\",\n",
    "    \"Anxiety\": \"You may be experiencing anxiety. Try to breathe deeply and take some time to relax 🧘‍♂️\",\n",
    "    \"Bipolar\": \"Your message suggests signs of mood swings. Please consult a mental health professional for an accurate diagnosis\",\n",
    "    \"Stress\": \"It looks like you're under stress. Consider taking a break or doing a relaxing activity 🌿\",\n",
    "    \"Personality disorder\": \"Your message shows signs of a potential personality disorder. It's advisable to talk with a mental health specialist\",\n",
    "}"
   ]
  },
  {
   "cell_type": "code",
   "execution_count": 11,
   "id": "6ee0e7ee",
   "metadata": {},
   "outputs": [],
   "source": [
    "def classify_text(text):\n",
    "    inputs = tokenizer(text, return_tensors=\"pt\", truncation=True, padding=True)\n",
    "    with torch.no_grad():\n",
    "        outputs = model(**inputs)\n",
    "        predicted_class = torch.argmax(outputs.logits, dim=1).item()\n",
    "    return predicted_class"
   ]
  },
  {
   "cell_type": "code",
   "execution_count": 12,
   "id": "c13b8b04",
   "metadata": {},
   "outputs": [],
   "source": [
    "idx_to_class = {\n",
    "    0: \"Depression\",\n",
    "    1: \"Normal\",\n",
    "    2: \"Suicidal\",\n",
    "    3: \"Anxiety\",\n",
    "    4: \"Bipolar\",\n",
    "    5: \"Stress\",\n",
    "    6: \"Personality disorder\",\n",
    "}"
   ]
  },
  {
   "cell_type": "code",
   "execution_count": 13,
   "id": "ffb159c9",
   "metadata": {},
   "outputs": [],
   "source": [
    "def chatbot_response(user_input):\n",
    "    class_idx = classify_text(user_input)\n",
    "    class_name = idx_to_class[class_idx]\n",
    "    return responses[class_name]"
   ]
  },
  {
   "cell_type": "code",
   "execution_count": 15,
   "id": "2d392213",
   "metadata": {},
   "outputs": [
    {
     "name": "stdout",
     "output_type": "stream",
     "text": [
      "User: I'm feeling fine today, just a little tired from work.\n",
      "Bot: You seem to be mentally healthy at the moment 😊\n",
      "User: Lately, I feel empty and nothing seems to matter anymore.\n",
      "Bot: It looks like you're under stress. Consider taking a break or doing a relaxing activity 🌿\n",
      "User: I can't take this pain anymore. I wish I could just disappear.\n",
      "Bot: You might be feeling depressed. Try talking to someone close or consider seeking help from a professional 💙\n",
      "User: I keep worrying about things that haven't even happened yet.\n",
      "Bot: You seem to be mentally healthy at the moment 😊\n",
      "User: Sometimes I feel like I'm not really myself, and people tell me I act totally different from one day to the next.\n",
      "Bot: You seem to be mentally healthy at the moment 😊\n"
     ]
    }
   ],
   "source": [
    "import torch\n",
    "while True:\n",
    "    user_query = input(\"Enter your message in English (type 'exit' or press Enter to quit): \")\n",
    "    if user_query.lower() == 'exit':\n",
    "        break\n",
    "    if user_query == '':\n",
    "        break\n",
    "    response = chatbot_response(user_query)\n",
    "    print(\"User:\", user_query)\n",
    "    print(\"Bot:\", response)"
   ]
  }
 ],
 "metadata": {
  "kernelspec": {
   "display_name": "IRtest",
   "language": "python",
   "name": "python3"
  },
  "language_info": {
   "codemirror_mode": {
    "name": "ipython",
    "version": 3
   },
   "file_extension": ".py",
   "mimetype": "text/x-python",
   "name": "python",
   "nbconvert_exporter": "python",
   "pygments_lexer": "ipython3",
   "version": "3.11.11"
  }
 },
 "nbformat": 4,
 "nbformat_minor": 5
}
