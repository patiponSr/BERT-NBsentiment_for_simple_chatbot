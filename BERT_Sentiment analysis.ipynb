{
 "cells": [
  {
   "cell_type": "code",
   "execution_count": null,
   "id": "7d90b64d",
   "metadata": {},
   "outputs": [
    {
     "name": "stdout",
     "output_type": "stream",
     "text": [
      "✅ GPU is available: NVIDIA GeForce RTX 4060\n"
     ]
    }
   ],
   "source": [
    "import torch\n",
    "\n",
    "if torch.cuda.is_available():\n",
    "    print(\"GPU is available:\", torch.cuda.get_device_name(0))\n",
    "else:\n",
    "    print(\"GPU not available. Please check runtime settings.\")"
   ]
  },
  {
   "cell_type": "code",
   "execution_count": 74,
   "id": "11cd4b93",
   "metadata": {},
   "outputs": [],
   "source": [
    "# !pip install transformers"
   ]
  },
  {
   "cell_type": "markdown",
   "id": "be0060b2",
   "metadata": {},
   "source": [
    "Import necessary library"
   ]
  },
  {
   "cell_type": "code",
   "execution_count": 75,
   "id": "a973e185",
   "metadata": {},
   "outputs": [],
   "source": [
    "# Import necessary libraries\n",
    "import numpy as np\n",
    "import pandas as pd\n",
    "import seaborn as sns\n",
    "from pylab import rcParams\n",
    "import matplotlib.pyplot as plt\n",
    "from matplotlib import rc\n",
    "from sklearn.model_selection import train_test_split\n",
    "from sklearn.metrics import confusion_matrix, classification_report\n",
    "from collections import defaultdict\n",
    "from textwrap import wrap\n",
    "\n",
    "# Torch ML libraries\n",
    "import transformers\n",
    "from transformers import BertModel, BertTokenizer, get_linear_schedule_with_warmup\n",
    "import torch\n",
    "from torch import nn, optim\n",
    "from torch.utils.data import Dataset, DataLoader\n",
    "\n",
    "# Misc.\n",
    "import warnings\n",
    "warnings.filterwarnings('ignore')"
   ]
  },
  {
   "cell_type": "code",
   "execution_count": 76,
   "id": "a5c85d02",
   "metadata": {},
   "outputs": [],
   "source": [
    "# Set intial variables and constants\n",
    "%config InlineBackend.figure_format='retina'\n",
    "\n",
    "# Graph Designs\n",
    "sns.set(style='whitegrid', palette='muted', font_scale=1.2)\n",
    "HAPPY_COLORS_PALETTE = [\"#01BEFE\", \"#FFDD00\", \"#FF7D00\", \"#FF006D\", \"#ADFF02\", \"#8F00FF\"]\n",
    "sns.set_palette(sns.color_palette(HAPPY_COLORS_PALETTE))\n",
    "rcParams['figure.figsize'] = 12, 8\n",
    "\n",
    "# Random seed for reproducibilty\n",
    "RANDOM_SEED = 42\n",
    "np.random.seed(RANDOM_SEED)\n",
    "torch.manual_seed(RANDOM_SEED)\n",
    "\n",
    "# Set GPU\n",
    "device = torch.device(\"cuda\" if torch.cuda.is_available() else \"cpu\")"
   ]
  },
  {
   "cell_type": "markdown",
   "id": "21feec28",
   "metadata": {},
   "source": [
    "import data"
   ]
  },
  {
   "cell_type": "code",
   "execution_count": 77,
   "id": "e3719915",
   "metadata": {},
   "outputs": [
    {
     "data": {
      "text/plain": [
       "(5304, 3)"
      ]
     },
     "execution_count": 77,
     "metadata": {},
     "output_type": "execute_result"
    }
   ],
   "source": [
    "df = pd.read_csv(\"dataset\\Sentiment Analysis for Mental Health.csv\")\n",
    "df = df.sample(frac=0.1, random_state=42)\n",
    "df.shape"
   ]
  },
  {
   "cell_type": "markdown",
   "id": "b7694468",
   "metadata": {},
   "source": [
    "EDA and cleaning data"
   ]
  },
  {
   "cell_type": "code",
   "execution_count": 78,
   "id": "bc73b70f",
   "metadata": {},
   "outputs": [
    {
     "data": {
      "text/html": [
       "<div>\n",
       "<style scoped>\n",
       "    .dataframe tbody tr th:only-of-type {\n",
       "        vertical-align: middle;\n",
       "    }\n",
       "\n",
       "    .dataframe tbody tr th {\n",
       "        vertical-align: top;\n",
       "    }\n",
       "\n",
       "    .dataframe thead th {\n",
       "        text-align: right;\n",
       "    }\n",
       "</style>\n",
       "<table border=\"1\" class=\"dataframe\">\n",
       "  <thead>\n",
       "    <tr style=\"text-align: right;\">\n",
       "      <th></th>\n",
       "      <th>Unnamed: 0</th>\n",
       "      <th>statement</th>\n",
       "      <th>status</th>\n",
       "    </tr>\n",
       "  </thead>\n",
       "  <tbody>\n",
       "    <tr>\n",
       "      <th>22261</th>\n",
       "      <td>22261</td>\n",
       "      <td>Just as the the title says. I feel like one is...</td>\n",
       "      <td>Depression</td>\n",
       "    </tr>\n",
       "    <tr>\n",
       "      <th>41400</th>\n",
       "      <td>41400</td>\n",
       "      <td>a blackened sky encroached tugging behind it m...</td>\n",
       "      <td>Depression</td>\n",
       "    </tr>\n",
       "    <tr>\n",
       "      <th>20065</th>\n",
       "      <td>20065</td>\n",
       "      <td>It gives you insomnia, which in turn makes you...</td>\n",
       "      <td>Depression</td>\n",
       "    </tr>\n",
       "    <tr>\n",
       "      <th>30036</th>\n",
       "      <td>30036</td>\n",
       "      <td>Hello all, I'm a new submitter to this channel...</td>\n",
       "      <td>Normal</td>\n",
       "    </tr>\n",
       "    <tr>\n",
       "      <th>780</th>\n",
       "      <td>780</td>\n",
       "      <td>Thank God the CB is over for Eid</td>\n",
       "      <td>Normal</td>\n",
       "    </tr>\n",
       "  </tbody>\n",
       "</table>\n",
       "</div>"
      ],
      "text/plain": [
       "       Unnamed: 0                                          statement  \\\n",
       "22261       22261  Just as the the title says. I feel like one is...   \n",
       "41400       41400  a blackened sky encroached tugging behind it m...   \n",
       "20065       20065  It gives you insomnia, which in turn makes you...   \n",
       "30036       30036  Hello all, I'm a new submitter to this channel...   \n",
       "780           780                   Thank God the CB is over for Eid   \n",
       "\n",
       "           status  \n",
       "22261  Depression  \n",
       "41400  Depression  \n",
       "20065  Depression  \n",
       "30036      Normal  \n",
       "780        Normal  "
      ]
     },
     "execution_count": 78,
     "metadata": {},
     "output_type": "execute_result"
    }
   ],
   "source": [
    "# Let's have a look at the data\n",
    "df.head()"
   ]
  },
  {
   "cell_type": "code",
   "execution_count": 79,
   "id": "60940e6d",
   "metadata": {},
   "outputs": [
    {
     "name": "stdout",
     "output_type": "stream",
     "text": [
      "<class 'pandas.core.frame.DataFrame'>\n",
      "Index: 5304 entries, 22261 to 23011\n",
      "Data columns (total 3 columns):\n",
      " #   Column      Non-Null Count  Dtype \n",
      "---  ------      --------------  ----- \n",
      " 0   Unnamed: 0  5304 non-null   int64 \n",
      " 1   statement   5263 non-null   object\n",
      " 2   status      5304 non-null   object\n",
      "dtypes: int64(1), object(2)\n",
      "memory usage: 165.8+ KB\n"
     ]
    },
    {
     "data": {
      "text/html": [
       "<div>\n",
       "<style scoped>\n",
       "    .dataframe tbody tr th:only-of-type {\n",
       "        vertical-align: middle;\n",
       "    }\n",
       "\n",
       "    .dataframe tbody tr th {\n",
       "        vertical-align: top;\n",
       "    }\n",
       "\n",
       "    .dataframe thead th {\n",
       "        text-align: right;\n",
       "    }\n",
       "</style>\n",
       "<table border=\"1\" class=\"dataframe\">\n",
       "  <thead>\n",
       "    <tr style=\"text-align: right;\">\n",
       "      <th></th>\n",
       "      <th>Unnamed: 0</th>\n",
       "    </tr>\n",
       "  </thead>\n",
       "  <tbody>\n",
       "    <tr>\n",
       "      <th>count</th>\n",
       "      <td>5304.000000</td>\n",
       "    </tr>\n",
       "    <tr>\n",
       "      <th>mean</th>\n",
       "      <td>26680.773379</td>\n",
       "    </tr>\n",
       "    <tr>\n",
       "      <th>std</th>\n",
       "      <td>15323.596857</td>\n",
       "    </tr>\n",
       "    <tr>\n",
       "      <th>min</th>\n",
       "      <td>4.000000</td>\n",
       "    </tr>\n",
       "    <tr>\n",
       "      <th>25%</th>\n",
       "      <td>13505.750000</td>\n",
       "    </tr>\n",
       "    <tr>\n",
       "      <th>50%</th>\n",
       "      <td>27083.500000</td>\n",
       "    </tr>\n",
       "    <tr>\n",
       "      <th>75%</th>\n",
       "      <td>39859.250000</td>\n",
       "    </tr>\n",
       "    <tr>\n",
       "      <th>max</th>\n",
       "      <td>53022.000000</td>\n",
       "    </tr>\n",
       "  </tbody>\n",
       "</table>\n",
       "</div>"
      ],
      "text/plain": [
       "         Unnamed: 0\n",
       "count   5304.000000\n",
       "mean   26680.773379\n",
       "std    15323.596857\n",
       "min        4.000000\n",
       "25%    13505.750000\n",
       "50%    27083.500000\n",
       "75%    39859.250000\n",
       "max    53022.000000"
      ]
     },
     "execution_count": 79,
     "metadata": {},
     "output_type": "execute_result"
    }
   ],
   "source": [
    "df.info()\n",
    "df.describe()"
   ]
  },
  {
   "cell_type": "code",
   "execution_count": 80,
   "id": "0dd44633",
   "metadata": {},
   "outputs": [
    {
     "data": {
      "text/plain": [
       "Unnamed: 0     0\n",
       "statement     41\n",
       "status         0\n",
       "dtype: int64"
      ]
     },
     "execution_count": 80,
     "metadata": {},
     "output_type": "execute_result"
    }
   ],
   "source": [
    "# Let's check for missing values\n",
    "df.isnull().sum()"
   ]
  },
  {
   "cell_type": "code",
   "execution_count": 81,
   "id": "4c76dc18",
   "metadata": {},
   "outputs": [
    {
     "data": {
      "text/html": [
       "<div>\n",
       "<style scoped>\n",
       "    .dataframe tbody tr th:only-of-type {\n",
       "        vertical-align: middle;\n",
       "    }\n",
       "\n",
       "    .dataframe tbody tr th {\n",
       "        vertical-align: top;\n",
       "    }\n",
       "\n",
       "    .dataframe thead th {\n",
       "        text-align: right;\n",
       "    }\n",
       "</style>\n",
       "<table border=\"1\" class=\"dataframe\">\n",
       "  <thead>\n",
       "    <tr style=\"text-align: right;\">\n",
       "      <th></th>\n",
       "      <th>Unnamed: 0</th>\n",
       "      <th>statement</th>\n",
       "      <th>status</th>\n",
       "    </tr>\n",
       "  </thead>\n",
       "  <tbody>\n",
       "    <tr>\n",
       "      <th>50354</th>\n",
       "      <td>50354</td>\n",
       "      <td>NaN</td>\n",
       "      <td>Bipolar</td>\n",
       "    </tr>\n",
       "    <tr>\n",
       "      <th>51209</th>\n",
       "      <td>51209</td>\n",
       "      <td>NaN</td>\n",
       "      <td>Personality disorder</td>\n",
       "    </tr>\n",
       "    <tr>\n",
       "      <th>52637</th>\n",
       "      <td>52637</td>\n",
       "      <td>NaN</td>\n",
       "      <td>Anxiety</td>\n",
       "    </tr>\n",
       "    <tr>\n",
       "      <th>51220</th>\n",
       "      <td>51220</td>\n",
       "      <td>NaN</td>\n",
       "      <td>Personality disorder</td>\n",
       "    </tr>\n",
       "    <tr>\n",
       "      <th>50571</th>\n",
       "      <td>50571</td>\n",
       "      <td>NaN</td>\n",
       "      <td>Bipolar</td>\n",
       "    </tr>\n",
       "    <tr>\n",
       "      <th>52627</th>\n",
       "      <td>52627</td>\n",
       "      <td>NaN</td>\n",
       "      <td>Anxiety</td>\n",
       "    </tr>\n",
       "    <tr>\n",
       "      <th>50022</th>\n",
       "      <td>50022</td>\n",
       "      <td>NaN</td>\n",
       "      <td>Bipolar</td>\n",
       "    </tr>\n",
       "    <tr>\n",
       "      <th>49384</th>\n",
       "      <td>49384</td>\n",
       "      <td>NaN</td>\n",
       "      <td>Stress</td>\n",
       "    </tr>\n",
       "    <tr>\n",
       "      <th>48460</th>\n",
       "      <td>48460</td>\n",
       "      <td>NaN</td>\n",
       "      <td>Stress</td>\n",
       "    </tr>\n",
       "    <tr>\n",
       "      <th>50768</th>\n",
       "      <td>50768</td>\n",
       "      <td>NaN</td>\n",
       "      <td>Personality disorder</td>\n",
       "    </tr>\n",
       "    <tr>\n",
       "      <th>49919</th>\n",
       "      <td>49919</td>\n",
       "      <td>NaN</td>\n",
       "      <td>Bipolar</td>\n",
       "    </tr>\n",
       "    <tr>\n",
       "      <th>49882</th>\n",
       "      <td>49882</td>\n",
       "      <td>NaN</td>\n",
       "      <td>Bipolar</td>\n",
       "    </tr>\n",
       "    <tr>\n",
       "      <th>50262</th>\n",
       "      <td>50262</td>\n",
       "      <td>NaN</td>\n",
       "      <td>Bipolar</td>\n",
       "    </tr>\n",
       "    <tr>\n",
       "      <th>53010</th>\n",
       "      <td>53010</td>\n",
       "      <td>NaN</td>\n",
       "      <td>Anxiety</td>\n",
       "    </tr>\n",
       "    <tr>\n",
       "      <th>50823</th>\n",
       "      <td>50823</td>\n",
       "      <td>NaN</td>\n",
       "      <td>Personality disorder</td>\n",
       "    </tr>\n",
       "    <tr>\n",
       "      <th>50071</th>\n",
       "      <td>50071</td>\n",
       "      <td>NaN</td>\n",
       "      <td>Bipolar</td>\n",
       "    </tr>\n",
       "    <tr>\n",
       "      <th>50499</th>\n",
       "      <td>50499</td>\n",
       "      <td>NaN</td>\n",
       "      <td>Bipolar</td>\n",
       "    </tr>\n",
       "    <tr>\n",
       "      <th>50107</th>\n",
       "      <td>50107</td>\n",
       "      <td>NaN</td>\n",
       "      <td>Bipolar</td>\n",
       "    </tr>\n",
       "    <tr>\n",
       "      <th>51153</th>\n",
       "      <td>51153</td>\n",
       "      <td>NaN</td>\n",
       "      <td>Personality disorder</td>\n",
       "    </tr>\n",
       "    <tr>\n",
       "      <th>51041</th>\n",
       "      <td>51041</td>\n",
       "      <td>NaN</td>\n",
       "      <td>Personality disorder</td>\n",
       "    </tr>\n",
       "    <tr>\n",
       "      <th>49802</th>\n",
       "      <td>49802</td>\n",
       "      <td>NaN</td>\n",
       "      <td>Bipolar</td>\n",
       "    </tr>\n",
       "    <tr>\n",
       "      <th>48485</th>\n",
       "      <td>48485</td>\n",
       "      <td>NaN</td>\n",
       "      <td>Stress</td>\n",
       "    </tr>\n",
       "    <tr>\n",
       "      <th>50404</th>\n",
       "      <td>50404</td>\n",
       "      <td>NaN</td>\n",
       "      <td>Bipolar</td>\n",
       "    </tr>\n",
       "    <tr>\n",
       "      <th>48860</th>\n",
       "      <td>48860</td>\n",
       "      <td>NaN</td>\n",
       "      <td>Stress</td>\n",
       "    </tr>\n",
       "    <tr>\n",
       "      <th>49616</th>\n",
       "      <td>49616</td>\n",
       "      <td>NaN</td>\n",
       "      <td>Bipolar</td>\n",
       "    </tr>\n",
       "    <tr>\n",
       "      <th>51539</th>\n",
       "      <td>51539</td>\n",
       "      <td>NaN</td>\n",
       "      <td>Personality disorder</td>\n",
       "    </tr>\n",
       "    <tr>\n",
       "      <th>50424</th>\n",
       "      <td>50424</td>\n",
       "      <td>NaN</td>\n",
       "      <td>Bipolar</td>\n",
       "    </tr>\n",
       "    <tr>\n",
       "      <th>50658</th>\n",
       "      <td>50658</td>\n",
       "      <td>NaN</td>\n",
       "      <td>Personality disorder</td>\n",
       "    </tr>\n",
       "    <tr>\n",
       "      <th>48864</th>\n",
       "      <td>48864</td>\n",
       "      <td>NaN</td>\n",
       "      <td>Stress</td>\n",
       "    </tr>\n",
       "    <tr>\n",
       "      <th>48799</th>\n",
       "      <td>48799</td>\n",
       "      <td>NaN</td>\n",
       "      <td>Stress</td>\n",
       "    </tr>\n",
       "    <tr>\n",
       "      <th>49833</th>\n",
       "      <td>49833</td>\n",
       "      <td>NaN</td>\n",
       "      <td>Bipolar</td>\n",
       "    </tr>\n",
       "    <tr>\n",
       "      <th>51403</th>\n",
       "      <td>51403</td>\n",
       "      <td>NaN</td>\n",
       "      <td>Personality disorder</td>\n",
       "    </tr>\n",
       "    <tr>\n",
       "      <th>51757</th>\n",
       "      <td>51757</td>\n",
       "      <td>NaN</td>\n",
       "      <td>Personality disorder</td>\n",
       "    </tr>\n",
       "    <tr>\n",
       "      <th>6513</th>\n",
       "      <td>6513</td>\n",
       "      <td>NaN</td>\n",
       "      <td>Normal</td>\n",
       "    </tr>\n",
       "    <tr>\n",
       "      <th>50671</th>\n",
       "      <td>50671</td>\n",
       "      <td>NaN</td>\n",
       "      <td>Personality disorder</td>\n",
       "    </tr>\n",
       "    <tr>\n",
       "      <th>48437</th>\n",
       "      <td>48437</td>\n",
       "      <td>NaN</td>\n",
       "      <td>Stress</td>\n",
       "    </tr>\n",
       "    <tr>\n",
       "      <th>49541</th>\n",
       "      <td>49541</td>\n",
       "      <td>NaN</td>\n",
       "      <td>Bipolar</td>\n",
       "    </tr>\n",
       "    <tr>\n",
       "      <th>49340</th>\n",
       "      <td>49340</td>\n",
       "      <td>NaN</td>\n",
       "      <td>Stress</td>\n",
       "    </tr>\n",
       "    <tr>\n",
       "      <th>51309</th>\n",
       "      <td>51309</td>\n",
       "      <td>NaN</td>\n",
       "      <td>Personality disorder</td>\n",
       "    </tr>\n",
       "    <tr>\n",
       "      <th>51550</th>\n",
       "      <td>51550</td>\n",
       "      <td>NaN</td>\n",
       "      <td>Personality disorder</td>\n",
       "    </tr>\n",
       "    <tr>\n",
       "      <th>49474</th>\n",
       "      <td>49474</td>\n",
       "      <td>NaN</td>\n",
       "      <td>Bipolar</td>\n",
       "    </tr>\n",
       "  </tbody>\n",
       "</table>\n",
       "</div>"
      ],
      "text/plain": [
       "       Unnamed: 0 statement                status\n",
       "50354       50354       NaN               Bipolar\n",
       "51209       51209       NaN  Personality disorder\n",
       "52637       52637       NaN               Anxiety\n",
       "51220       51220       NaN  Personality disorder\n",
       "50571       50571       NaN               Bipolar\n",
       "52627       52627       NaN               Anxiety\n",
       "50022       50022       NaN               Bipolar\n",
       "49384       49384       NaN                Stress\n",
       "48460       48460       NaN                Stress\n",
       "50768       50768       NaN  Personality disorder\n",
       "49919       49919       NaN               Bipolar\n",
       "49882       49882       NaN               Bipolar\n",
       "50262       50262       NaN               Bipolar\n",
       "53010       53010       NaN               Anxiety\n",
       "50823       50823       NaN  Personality disorder\n",
       "50071       50071       NaN               Bipolar\n",
       "50499       50499       NaN               Bipolar\n",
       "50107       50107       NaN               Bipolar\n",
       "51153       51153       NaN  Personality disorder\n",
       "51041       51041       NaN  Personality disorder\n",
       "49802       49802       NaN               Bipolar\n",
       "48485       48485       NaN                Stress\n",
       "50404       50404       NaN               Bipolar\n",
       "48860       48860       NaN                Stress\n",
       "49616       49616       NaN               Bipolar\n",
       "51539       51539       NaN  Personality disorder\n",
       "50424       50424       NaN               Bipolar\n",
       "50658       50658       NaN  Personality disorder\n",
       "48864       48864       NaN                Stress\n",
       "48799       48799       NaN                Stress\n",
       "49833       49833       NaN               Bipolar\n",
       "51403       51403       NaN  Personality disorder\n",
       "51757       51757       NaN  Personality disorder\n",
       "6513         6513       NaN                Normal\n",
       "50671       50671       NaN  Personality disorder\n",
       "48437       48437       NaN                Stress\n",
       "49541       49541       NaN               Bipolar\n",
       "49340       49340       NaN                Stress\n",
       "51309       51309       NaN  Personality disorder\n",
       "51550       51550       NaN  Personality disorder\n",
       "49474       49474       NaN               Bipolar"
      ]
     },
     "execution_count": 81,
     "metadata": {},
     "output_type": "execute_result"
    }
   ],
   "source": [
    "df[df.isna().any(axis=1)]"
   ]
  },
  {
   "cell_type": "code",
   "execution_count": 82,
   "id": "b07f8f3f",
   "metadata": {},
   "outputs": [
    {
     "name": "stdout",
     "output_type": "stream",
     "text": [
      "<class 'pandas.core.frame.DataFrame'>\n",
      "Index: 5263 entries, 22261 to 23011\n",
      "Data columns (total 3 columns):\n",
      " #   Column      Non-Null Count  Dtype \n",
      "---  ------      --------------  ----- \n",
      " 0   Unnamed: 0  5263 non-null   int64 \n",
      " 1   statement   5263 non-null   object\n",
      " 2   status      5263 non-null   object\n",
      "dtypes: int64(1), object(2)\n",
      "memory usage: 164.5+ KB\n"
     ]
    },
    {
     "data": {
      "text/plain": [
       "(5263, 3)"
      ]
     },
     "execution_count": 82,
     "metadata": {},
     "output_type": "execute_result"
    }
   ],
   "source": [
    "df = df.dropna()\n",
    "df.info()\n",
    "df.describe()\n",
    "df.shape"
   ]
  },
  {
   "cell_type": "code",
   "execution_count": 83,
   "id": "1fd9a6bc",
   "metadata": {},
   "outputs": [
    {
     "data": {
      "text/plain": [
       "Unnamed: 0    0\n",
       "statement     0\n",
       "status        0\n",
       "dtype: int64"
      ]
     },
     "execution_count": 83,
     "metadata": {},
     "output_type": "execute_result"
    }
   ],
   "source": [
    "# Let's check for missing values again\n",
    "df.isnull().sum()"
   ]
  },
  {
   "cell_type": "code",
   "execution_count": 84,
   "id": "cbb4ef82",
   "metadata": {},
   "outputs": [
    {
     "data": {
      "text/plain": [
       "status\n",
       "Normal                  1648\n",
       "Depression              1603\n",
       "Suicidal                 952\n",
       "Anxiety                  377\n",
       "Stress                   289\n",
       "Bipolar                  278\n",
       "Personality disorder     116\n",
       "Name: count, dtype: int64"
      ]
     },
     "execution_count": 84,
     "metadata": {},
     "output_type": "execute_result"
    }
   ],
   "source": [
    "df['status'].value_counts()"
   ]
  },
  {
   "cell_type": "code",
   "execution_count": 85,
   "id": "0ba25380",
   "metadata": {},
   "outputs": [
    {
     "data": {
      "image/png": "[encoded data removed]",
      "text/plain": [
       "<Figure size 1200x800 with 1 Axes>"
      ]
     },
     "metadata": {
      "image/png": {
       "height": 689,
       "width": 1148
      }
     },
     "output_type": "display_data"
    }
   ],
   "source": [
    "# Let's have a look at the class balance.\n",
    "sns.countplot(df.status)\n",
    "plt.xlabel('count');"
   ]
  },
  {
   "cell_type": "markdown",
   "id": "cbcebe83",
   "metadata": {},
   "source": [
    "Data preprocessing"
   ]
  },
  {
   "cell_type": "code",
   "execution_count": 86,
   "id": "ee49d956",
   "metadata": {},
   "outputs": [
    {
     "data": {
      "text/plain": [
       "{'Depression': 0,\n",
       " 'Normal': 1,\n",
       " 'Suicidal': 2,\n",
       " 'Anxiety': 3,\n",
       " 'Bipolar': 4,\n",
       " 'Stress': 5,\n",
       " 'Personality disorder': 6}"
      ]
     },
     "execution_count": 86,
     "metadata": {},
     "output_type": "execute_result"
    }
   ],
   "source": [
    "possible_label = df.status.unique()\n",
    "dict_label = {}\n",
    "for index,possible_label in enumerate(possible_label):\n",
    "    dict_label[possible_label] = index\n",
    "dict_label"
   ]
  },
  {
   "cell_type": "code",
   "execution_count": 87,
   "id": "c3f25cf3",
   "metadata": {},
   "outputs": [
    {
     "data": {
      "text/html": [
       "<div>\n",
       "<style scoped>\n",
       "    .dataframe tbody tr th:only-of-type {\n",
       "        vertical-align: middle;\n",
       "    }\n",
       "\n",
       "    .dataframe tbody tr th {\n",
       "        vertical-align: top;\n",
       "    }\n",
       "\n",
       "    .dataframe thead th {\n",
       "        text-align: right;\n",
       "    }\n",
       "</style>\n",
       "<table border=\"1\" class=\"dataframe\">\n",
       "  <thead>\n",
       "    <tr style=\"text-align: right;\">\n",
       "      <th></th>\n",
       "      <th>Unnamed: 0</th>\n",
       "      <th>statement</th>\n",
       "      <th>status</th>\n",
       "      <th>Label</th>\n",
       "    </tr>\n",
       "  </thead>\n",
       "  <tbody>\n",
       "    <tr>\n",
       "      <th>22261</th>\n",
       "      <td>22261</td>\n",
       "      <td>Just as the the title says. I feel like one is...</td>\n",
       "      <td>Depression</td>\n",
       "      <td>0</td>\n",
       "    </tr>\n",
       "    <tr>\n",
       "      <th>41400</th>\n",
       "      <td>41400</td>\n",
       "      <td>a blackened sky encroached tugging behind it m...</td>\n",
       "      <td>Depression</td>\n",
       "      <td>0</td>\n",
       "    </tr>\n",
       "    <tr>\n",
       "      <th>20065</th>\n",
       "      <td>20065</td>\n",
       "      <td>It gives you insomnia, which in turn makes you...</td>\n",
       "      <td>Depression</td>\n",
       "      <td>0</td>\n",
       "    </tr>\n",
       "    <tr>\n",
       "      <th>30036</th>\n",
       "      <td>30036</td>\n",
       "      <td>Hello all, I'm a new submitter to this channel...</td>\n",
       "      <td>Normal</td>\n",
       "      <td>1</td>\n",
       "    </tr>\n",
       "    <tr>\n",
       "      <th>780</th>\n",
       "      <td>780</td>\n",
       "      <td>Thank God the CB is over for Eid</td>\n",
       "      <td>Normal</td>\n",
       "      <td>1</td>\n",
       "    </tr>\n",
       "  </tbody>\n",
       "</table>\n",
       "</div>"
      ],
      "text/plain": [
       "       Unnamed: 0                                          statement  \\\n",
       "22261       22261  Just as the the title says. I feel like one is...   \n",
       "41400       41400  a blackened sky encroached tugging behind it m...   \n",
       "20065       20065  It gives you insomnia, which in turn makes you...   \n",
       "30036       30036  Hello all, I'm a new submitter to this channel...   \n",
       "780           780                   Thank God the CB is over for Eid   \n",
       "\n",
       "           status  Label  \n",
       "22261  Depression      0  \n",
       "41400  Depression      0  \n",
       "20065  Depression      0  \n",
       "30036      Normal      1  \n",
       "780        Normal      1  "
      ]
     },
     "execution_count": 87,
     "metadata": {},
     "output_type": "execute_result"
    }
   ],
   "source": [
    "df[\"Label\"] = df[\"status\"].replace(dict_label)\n",
    "df.head()"
   ]
  },
  {
   "cell_type": "code",
   "execution_count": null,
   "id": "fc5fb341",
   "metadata": {},
   "outputs": [],
   "source": [
    "from sklearn.model_selection import train_test_split\n",
    "\n",
    "RANDOM_SEED = 42\n",
    "\n",
    "# train 80%, test 20%\n",
    "df_train, df_test = train_test_split(df, test_size=0.2, random_state=RANDOM_SEED, stratify=df[\"Label\"])\n",
    "\n",
    "# split test 20% to val/test = val 10%, test 10%\n",
    "df_val, df_test = train_test_split(df_test, test_size=0.5, random_state=RANDOM_SEED, stratify=df_test[\"Label\"])\n",
    "\n",
    "df_train[\"data_type\"] = \"train\"\n",
    "df_val[\"data_type\"] = \"val\"\n",
    "df_test[\"data_type\"] = \"test\"\n",
    "\n",
    "df = pd.concat([df_train, df_val, df_test])\n"
   ]
  },
  {
   "cell_type": "code",
   "execution_count": 89,
   "id": "7a893f18",
   "metadata": {},
   "outputs": [
    {
     "data": {
      "text/html": [
       "<div>\n",
       "<style scoped>\n",
       "    .dataframe tbody tr th:only-of-type {\n",
       "        vertical-align: middle;\n",
       "    }\n",
       "\n",
       "    .dataframe tbody tr th {\n",
       "        vertical-align: top;\n",
       "    }\n",
       "\n",
       "    .dataframe thead th {\n",
       "        text-align: right;\n",
       "    }\n",
       "</style>\n",
       "<table border=\"1\" class=\"dataframe\">\n",
       "  <thead>\n",
       "    <tr style=\"text-align: right;\">\n",
       "      <th></th>\n",
       "      <th>Unnamed: 0</th>\n",
       "      <th>statement</th>\n",
       "      <th>status</th>\n",
       "      <th>Label</th>\n",
       "      <th>data_type</th>\n",
       "    </tr>\n",
       "  </thead>\n",
       "  <tbody>\n",
       "    <tr>\n",
       "      <th>28622</th>\n",
       "      <td>28622</td>\n",
       "      <td>I know he's never going to be the same, but it...</td>\n",
       "      <td>Stress</td>\n",
       "      <td>5</td>\n",
       "      <td>train</td>\n",
       "    </tr>\n",
       "    <tr>\n",
       "      <th>42206</th>\n",
       "      <td>42206</td>\n",
       "      <td>ikimb0 i just seen ur tweet plz write bak if u...</td>\n",
       "      <td>Normal</td>\n",
       "      <td>1</td>\n",
       "      <td>train</td>\n",
       "    </tr>\n",
       "    <tr>\n",
       "      <th>40429</th>\n",
       "      <td>40429</td>\n",
       "      <td>i wish i could just be normal and happy i have...</td>\n",
       "      <td>Depression</td>\n",
       "      <td>0</td>\n",
       "      <td>train</td>\n",
       "    </tr>\n",
       "    <tr>\n",
       "      <th>52869</th>\n",
       "      <td>52869</td>\n",
       "      <td>Doctors notes/records Hi just wondering if any...</td>\n",
       "      <td>Anxiety</td>\n",
       "      <td>3</td>\n",
       "      <td>train</td>\n",
       "    </tr>\n",
       "    <tr>\n",
       "      <th>36028</th>\n",
       "      <td>36028</td>\n",
       "      <td>ooo apple store is down ... so close? Credit c...</td>\n",
       "      <td>Normal</td>\n",
       "      <td>1</td>\n",
       "      <td>train</td>\n",
       "    </tr>\n",
       "  </tbody>\n",
       "</table>\n",
       "</div>"
      ],
      "text/plain": [
       "       Unnamed: 0                                          statement  \\\n",
       "28622       28622  I know he's never going to be the same, but it...   \n",
       "42206       42206  ikimb0 i just seen ur tweet plz write bak if u...   \n",
       "40429       40429  i wish i could just be normal and happy i have...   \n",
       "52869       52869  Doctors notes/records Hi just wondering if any...   \n",
       "36028       36028  ooo apple store is down ... so close? Credit c...   \n",
       "\n",
       "           status  Label data_type  \n",
       "28622      Stress      5     train  \n",
       "42206      Normal      1     train  \n",
       "40429  Depression      0     train  \n",
       "52869     Anxiety      3     train  \n",
       "36028      Normal      1     train  "
      ]
     },
     "execution_count": 89,
     "metadata": {},
     "output_type": "execute_result"
    }
   ],
   "source": [
    "df.head()"
   ]
  },
  {
   "cell_type": "code",
   "execution_count": 90,
   "id": "6a8d9eb1",
   "metadata": {},
   "outputs": [
    {
     "data": {
      "text/html": [
       "<div>\n",
       "<style scoped>\n",
       "    .dataframe tbody tr th:only-of-type {\n",
       "        vertical-align: middle;\n",
       "    }\n",
       "\n",
       "    .dataframe tbody tr th {\n",
       "        vertical-align: top;\n",
       "    }\n",
       "\n",
       "    .dataframe thead th {\n",
       "        text-align: right;\n",
       "    }\n",
       "</style>\n",
       "<table border=\"1\" class=\"dataframe\">\n",
       "  <thead>\n",
       "    <tr style=\"text-align: right;\">\n",
       "      <th></th>\n",
       "      <th></th>\n",
       "      <th></th>\n",
       "      <th>Unnamed: 0</th>\n",
       "      <th>statement</th>\n",
       "    </tr>\n",
       "    <tr>\n",
       "      <th>status</th>\n",
       "      <th>Label</th>\n",
       "      <th>data_type</th>\n",
       "      <th></th>\n",
       "      <th></th>\n",
       "    </tr>\n",
       "  </thead>\n",
       "  <tbody>\n",
       "    <tr>\n",
       "      <th rowspan=\"3\" valign=\"top\">Anxiety</th>\n",
       "      <th rowspan=\"3\" valign=\"top\">3</th>\n",
       "      <th>test</th>\n",
       "      <td>38</td>\n",
       "      <td>38</td>\n",
       "    </tr>\n",
       "    <tr>\n",
       "      <th>train</th>\n",
       "      <td>302</td>\n",
       "      <td>302</td>\n",
       "    </tr>\n",
       "    <tr>\n",
       "      <th>val</th>\n",
       "      <td>37</td>\n",
       "      <td>37</td>\n",
       "    </tr>\n",
       "    <tr>\n",
       "      <th rowspan=\"3\" valign=\"top\">Bipolar</th>\n",
       "      <th rowspan=\"3\" valign=\"top\">4</th>\n",
       "      <th>test</th>\n",
       "      <td>28</td>\n",
       "      <td>28</td>\n",
       "    </tr>\n",
       "    <tr>\n",
       "      <th>train</th>\n",
       "      <td>222</td>\n",
       "      <td>222</td>\n",
       "    </tr>\n",
       "    <tr>\n",
       "      <th>val</th>\n",
       "      <td>28</td>\n",
       "      <td>28</td>\n",
       "    </tr>\n",
       "    <tr>\n",
       "      <th rowspan=\"3\" valign=\"top\">Depression</th>\n",
       "      <th rowspan=\"3\" valign=\"top\">0</th>\n",
       "      <th>test</th>\n",
       "      <td>161</td>\n",
       "      <td>161</td>\n",
       "    </tr>\n",
       "    <tr>\n",
       "      <th>train</th>\n",
       "      <td>1282</td>\n",
       "      <td>1282</td>\n",
       "    </tr>\n",
       "    <tr>\n",
       "      <th>val</th>\n",
       "      <td>160</td>\n",
       "      <td>160</td>\n",
       "    </tr>\n",
       "    <tr>\n",
       "      <th rowspan=\"3\" valign=\"top\">Normal</th>\n",
       "      <th rowspan=\"3\" valign=\"top\">1</th>\n",
       "      <th>test</th>\n",
       "      <td>165</td>\n",
       "      <td>165</td>\n",
       "    </tr>\n",
       "    <tr>\n",
       "      <th>train</th>\n",
       "      <td>1318</td>\n",
       "      <td>1318</td>\n",
       "    </tr>\n",
       "    <tr>\n",
       "      <th>val</th>\n",
       "      <td>165</td>\n",
       "      <td>165</td>\n",
       "    </tr>\n",
       "    <tr>\n",
       "      <th rowspan=\"3\" valign=\"top\">Personality disorder</th>\n",
       "      <th rowspan=\"3\" valign=\"top\">6</th>\n",
       "      <th>test</th>\n",
       "      <td>11</td>\n",
       "      <td>11</td>\n",
       "    </tr>\n",
       "    <tr>\n",
       "      <th>train</th>\n",
       "      <td>93</td>\n",
       "      <td>93</td>\n",
       "    </tr>\n",
       "    <tr>\n",
       "      <th>val</th>\n",
       "      <td>12</td>\n",
       "      <td>12</td>\n",
       "    </tr>\n",
       "    <tr>\n",
       "      <th rowspan=\"3\" valign=\"top\">Stress</th>\n",
       "      <th rowspan=\"3\" valign=\"top\">5</th>\n",
       "      <th>test</th>\n",
       "      <td>29</td>\n",
       "      <td>29</td>\n",
       "    </tr>\n",
       "    <tr>\n",
       "      <th>train</th>\n",
       "      <td>231</td>\n",
       "      <td>231</td>\n",
       "    </tr>\n",
       "    <tr>\n",
       "      <th>val</th>\n",
       "      <td>29</td>\n",
       "      <td>29</td>\n",
       "    </tr>\n",
       "    <tr>\n",
       "      <th rowspan=\"3\" valign=\"top\">Suicidal</th>\n",
       "      <th rowspan=\"3\" valign=\"top\">2</th>\n",
       "      <th>test</th>\n",
       "      <td>95</td>\n",
       "      <td>95</td>\n",
       "    </tr>\n",
       "    <tr>\n",
       "      <th>train</th>\n",
       "      <td>762</td>\n",
       "      <td>762</td>\n",
       "    </tr>\n",
       "    <tr>\n",
       "      <th>val</th>\n",
       "      <td>95</td>\n",
       "      <td>95</td>\n",
       "    </tr>\n",
       "  </tbody>\n",
       "</table>\n",
       "</div>"
      ],
      "text/plain": [
       "                                      Unnamed: 0  statement\n",
       "status               Label data_type                       \n",
       "Anxiety              3     test               38         38\n",
       "                           train             302        302\n",
       "                           val                37         37\n",
       "Bipolar              4     test               28         28\n",
       "                           train             222        222\n",
       "                           val                28         28\n",
       "Depression           0     test              161        161\n",
       "                           train            1282       1282\n",
       "                           val               160        160\n",
       "Normal               1     test              165        165\n",
       "                           train            1318       1318\n",
       "                           val               165        165\n",
       "Personality disorder 6     test               11         11\n",
       "                           train              93         93\n",
       "                           val                12         12\n",
       "Stress               5     test               29         29\n",
       "                           train             231        231\n",
       "                           val                29         29\n",
       "Suicidal             2     test               95         95\n",
       "                           train             762        762\n",
       "                           val                95         95"
      ]
     },
     "execution_count": 90,
     "metadata": {},
     "output_type": "execute_result"
    }
   ],
   "source": [
    "df.groupby(['status','Label','data_type']).count()"
   ]
  },
  {
   "cell_type": "code",
   "execution_count": 91,
   "id": "31a4fd0b",
   "metadata": {},
   "outputs": [],
   "source": [
    "from transformers import BertTokenizer\n",
    "from torch.utils.data import TensorDataset"
   ]
  },
  {
   "cell_type": "code",
   "execution_count": 92,
   "id": "addc6661",
   "metadata": {},
   "outputs": [],
   "source": [
    "tokenizer = BertTokenizer.from_pretrained('bert-base-uncased',\n",
    "                                         do_lower_case = True)"
   ]
  },
  {
   "cell_type": "code",
   "execution_count": 93,
   "id": "c3b9d4f9",
   "metadata": {},
   "outputs": [],
   "source": [
    "encoder_train = tokenizer.batch_encode_plus(\n",
    "    df[df[\"data_type\"] == 'train'].statement.values.tolist(),\n",
    "    add_special_tokens=True,\n",
    "    return_attention_mask=True,\n",
    "    padding='max_length',           \n",
    "    truncation=True,\n",
    "    max_length=300,\n",
    "    return_tensors='pt'\n",
    ")\n",
    "\n",
    "encoder_test = tokenizer.batch_encode_plus(\n",
    "    df[df[\"data_type\"] == 'test'].statement.values.tolist(),\n",
    "    add_special_tokens=True,\n",
    "    return_attention_mask=True,\n",
    "    padding='max_length',\n",
    "    truncation=True,\n",
    "    max_length=300,\n",
    "    return_tensors='pt'\n",
    ")\n",
    "\n",
    "encoder_val = tokenizer.batch_encode_plus(\n",
    "    df[df[\"data_type\"] == 'val'].statement.values.tolist(),\n",
    "    add_special_tokens=True,\n",
    "    return_attention_mask=True,\n",
    "    padding='max_length',\n",
    "    truncation=True,\n",
    "    max_length=300,\n",
    "    return_tensors='pt'\n",
    ")\n",
    "\n",
    "\n",
    "input_ids_train = encoder_train['input_ids']\n",
    "attention_masks_train = encoder_train['attention_mask']\n",
    "labels_train = torch.tensor(df[df['data_type'] == 'train'].Label.values)\n",
    "\n",
    "input_ids_test = encoder_test['input_ids']\n",
    "attention_masks_test = encoder_test['attention_mask']\n",
    "labels_test = torch.tensor(df[df['data_type'] == 'test'].Label.values)\n",
    "\n",
    "input_ids_val = encoder_val['input_ids']\n",
    "attention_masks_val = encoder_val[\"attention_mask\"]\n",
    "labels_val = torch.tensor(df[df['data_type']=='val'].Label.values)"
   ]
  },
  {
   "cell_type": "code",
   "execution_count": 94,
   "id": "17b76292",
   "metadata": {},
   "outputs": [],
   "source": [
    "data_train = TensorDataset(input_ids_train,attention_masks_train,labels_train)\n",
    "data_test = TensorDataset(input_ids_test,attention_masks_test,labels_test)\n",
    "data_val = TensorDataset(input_ids_val,attention_masks_val,labels_val)"
   ]
  },
  {
   "cell_type": "code",
   "execution_count": 95,
   "id": "97688c78",
   "metadata": {},
   "outputs": [
    {
     "data": {
      "text/plain": [
       "(4210, 527, 526)"
      ]
     },
     "execution_count": 95,
     "metadata": {},
     "output_type": "execute_result"
    }
   ],
   "source": [
    "len(data_train),len(data_test),len(data_val)"
   ]
  },
  {
   "cell_type": "markdown",
   "id": "b7d1ac1e",
   "metadata": {},
   "source": [
    "Create function"
   ]
  },
  {
   "cell_type": "code",
   "execution_count": 96,
   "id": "bd411b9e",
   "metadata": {},
   "outputs": [
    {
     "name": "stderr",
     "output_type": "stream",
     "text": [
      "Some weights of BertForSequenceClassification were not initialized from the model checkpoint at bert-base-uncased and are newly initialized: ['classifier.bias', 'classifier.weight']\n",
      "You should probably TRAIN this model on a down-stream task to be able to use it for predictions and inference.\n"
     ]
    }
   ],
   "source": [
    "from transformers import BertForSequenceClassification\n",
    "model = BertForSequenceClassification.from_pretrained('bert-base-uncased',\n",
    "                                     num_labels = len(dict_label),\n",
    "                                     output_attentions = False,\n",
    "                                     output_hidden_states =  False)"
   ]
  },
  {
   "cell_type": "code",
   "execution_count": 97,
   "id": "b2646612",
   "metadata": {},
   "outputs": [],
   "source": [
    "from torch.utils.data import TensorDataset, DataLoader, RandomSampler, SequentialSampler\n",
    "\n",
    "# TensorDatasets\n",
    "dataset_train = TensorDataset(input_ids_train, attention_masks_train, labels_train)\n",
    "dataset_val = TensorDataset(input_ids_val, attention_masks_val, labels_val)\n",
    "dataset_test = TensorDataset(input_ids_test, attention_masks_test, labels_test)\n",
    "\n",
    "# DataLoaders\n",
    "BATCH_SIZE = 16\n",
    "\n",
    "dataloader_train = DataLoader(dataset_train, sampler=RandomSampler(dataset_train), batch_size=BATCH_SIZE)\n",
    "dataloader_val = DataLoader(dataset_val, sampler=SequentialSampler(dataset_val), batch_size=BATCH_SIZE)\n",
    "dataloader_test = DataLoader(dataset_test, sampler=SequentialSampler(dataset_test), batch_size=BATCH_SIZE)"
   ]
  },
  {
   "cell_type": "code",
   "execution_count": 98,
   "id": "005bcc9c",
   "metadata": {},
   "outputs": [],
   "source": [
    "from torch.optim import AdamW\n",
    "from transformers import get_linear_schedule_with_warmup\n",
    "optimizer = AdamW(model.parameters(),lr = 1e-5,eps = 1e-8)\n",
    "\n",
    "epochs  = 10\n",
    "scheduler = get_linear_schedule_with_warmup(\n",
    "            optimizer,\n",
    "    num_warmup_steps = 0,\n",
    "   num_training_steps = len(dataloader_train)*epochs\n",
    ")"
   ]
  },
  {
   "cell_type": "code",
   "execution_count": 99,
   "id": "aabb5ccd",
   "metadata": {},
   "outputs": [],
   "source": [
    "from sklearn.metrics import accuracy_score\n",
    "\n",
    "def accuracy_score_func(preds, labels):\n",
    "    preds_flat = np.argmax(preds, axis=1).flatten()\n",
    "    labels_flat = labels.flatten()\n",
    "    return accuracy_score(labels_flat, preds_flat)"
   ]
  },
  {
   "cell_type": "code",
   "execution_count": 100,
   "id": "6b8671ad",
   "metadata": {},
   "outputs": [],
   "source": [
    "import random\n",
    "\n",
    "seed_val = 17\n",
    "random.seed(seed_val)\n",
    "np.random.seed(seed_val)\n",
    "torch.manual_seed(seed_val)\n",
    "torch.cuda.manual_seed_all(seed_val)"
   ]
  },
  {
   "cell_type": "code",
   "execution_count": 125,
   "id": "84151e78",
   "metadata": {},
   "outputs": [
    {
     "name": "stdout",
     "output_type": "stream",
     "text": [
      "Loading:cuda\n"
     ]
    }
   ],
   "source": [
    "device = torch.device('cuda' if torch.cuda.is_available() else 'cpu')\n",
    "model.to(device)\n",
    "\n",
    "print(f\"Loading:{device}\")"
   ]
  },
  {
   "cell_type": "code",
   "execution_count": 126,
   "id": "add5df62",
   "metadata": {},
   "outputs": [],
   "source": [
    "from tqdm import tqdm\n",
    "def evaluate(dataloader_val):\n",
    "    model.eval()\n",
    "\n",
    "    loss_val_total = 0\n",
    "    predictions,true_vals = [],[]\n",
    "\n",
    "    for batch in tqdm(dataloader_val):\n",
    "        batch = tuple(b.to(device) for b in batch)\n",
    "\n",
    "        inputs = {'input_ids':  batch[0],\n",
    "                  'attention_mask':batch[1],\n",
    "                  'labels': batch[2]\n",
    "                 }\n",
    "        with torch.no_grad():\n",
    "            outputs = model(**inputs)\n",
    "\n",
    "        loss = outputs[0]\n",
    "        logits = outputs[1]\n",
    "        loss_val_total +=loss.item()\n",
    "\n",
    "        logits = logits.detach().cpu().numpy()\n",
    "        label_ids = inputs['labels'].cpu().numpy()\n",
    "        predictions.append(logits)\n",
    "        true_vals.append(label_ids)\n",
    "\n",
    "\n",
    "    loss_val_avg = loss_val_total/len(dataloader_val)\n",
    "\n",
    "    predictions = np.concatenate(predictions,axis=0)\n",
    "    true_vals = np.concatenate(true_vals,axis=0)\n",
    "    return loss_val_avg,predictions,true_vals"
   ]
  },
  {
   "cell_type": "code",
   "execution_count": 123,
   "id": "a2e95af2",
   "metadata": {},
   "outputs": [],
   "source": [
    "def get_accuracy_from_dataloader(dataloader):\n",
    "    model.eval()\n",
    "    predictions, true_vals = [], []\n",
    "    for batch in dataloader:\n",
    "        batch = tuple(b.to(device) for b in batch)\n",
    "        inputs = {\n",
    "            'input_ids': batch[0],\n",
    "            'attention_mask': batch[1],\n",
    "            'labels': batch[2]\n",
    "        }\n",
    "        with torch.no_grad():\n",
    "            outputs = model(**inputs)\n",
    "        logits = outputs[1]\n",
    "        logits = logits.detach().cpu().numpy()\n",
    "        label_ids = inputs['labels'].cpu().numpy()\n",
    "        predictions.append(logits)\n",
    "        true_vals.append(label_ids)\n",
    "\n",
    "    predictions = np.concatenate(predictions, axis=0)\n",
    "    true_vals = np.concatenate(true_vals, axis=0)\n",
    "    return accuracy_score(np.argmax(predictions, axis=1), true_vals)\n"
   ]
  },
  {
   "cell_type": "markdown",
   "id": "227392b9",
   "metadata": {},
   "source": [
    "Loss train-validate for store model best performance state"
   ]
  },
  {
   "cell_type": "code",
   "execution_count": 121,
   "id": "29fa8987",
   "metadata": {},
   "outputs": [],
   "source": [
    "train_losses = []\n",
    "train_accuracies = []\n",
    "val_losses = []\n",
    "val_accuracies = []\n",
    "\n",
    "best_val_acc = 0\n",
    "best_model_state = None"
   ]
  },
  {
   "cell_type": "code",
   "execution_count": null,
   "id": "d45d0c43",
   "metadata": {},
   "outputs": [
    {
     "name": "stderr",
     "output_type": "stream",
     "text": [
      "100%|██████████| 33/33 [00:26<00:00,  1.25it/s]\n",
      " 10%|█         | 1/10 [09:09<1:22:23, 549.24s/it]"
     ]
    },
    {
     "name": "stdout",
     "output_type": "stream",
     "text": [
      "\n",
      "Epoch 1\n",
      "Training Loss: 1.2289 |Train Accuracy: 0.6601\n",
      "Val Loss: 0.9311 | Val Accuracy: 0.6331\n",
      "✅ Saved best model at epoch 1 (Val Acc: 0.6331)\n"
     ]
    },
    {
     "name": "stderr",
     "output_type": "stream",
     "text": [
      "100%|██████████| 33/33 [00:26<00:00,  1.26it/s]\n",
      " 20%|██        | 2/10 [18:17<1:13:08, 548.59s/it]"
     ]
    },
    {
     "name": "stdout",
     "output_type": "stream",
     "text": [
      "\n",
      "Epoch 2\n",
      "Training Loss: 0.7911 |Train Accuracy: 0.7684\n",
      "Val Loss: 0.7251 | Val Accuracy: 0.7395\n",
      "✅ Saved best model at epoch 2 (Val Acc: 0.7395)\n"
     ]
    },
    {
     "name": "stderr",
     "output_type": "stream",
     "text": [
      "100%|██████████| 33/33 [00:26<00:00,  1.26it/s]\n",
      " 30%|███       | 3/10 [27:25<1:03:58, 548.35s/it]"
     ]
    },
    {
     "name": "stdout",
     "output_type": "stream",
     "text": [
      "\n",
      "Epoch 3\n",
      "Training Loss: 0.5978 |Train Accuracy: 0.8240\n",
      "Val Loss: 0.6356 | Val Accuracy: 0.7624\n",
      "✅ Saved best model at epoch 3 (Val Acc: 0.7624)\n"
     ]
    },
    {
     "name": "stderr",
     "output_type": "stream",
     "text": [
      "100%|██████████| 33/33 [00:26<00:00,  1.26it/s]\n",
      " 40%|████      | 4/10 [36:33<54:49, 548.26s/it]  "
     ]
    },
    {
     "name": "stdout",
     "output_type": "stream",
     "text": [
      "\n",
      "Epoch 4\n",
      "Training Loss: 0.4670 |Train Accuracy: 0.8423\n",
      "Val Loss: 0.5993 | Val Accuracy: 0.7700\n",
      "✅ Saved best model at epoch 4 (Val Acc: 0.7700)\n"
     ]
    },
    {
     "name": "stderr",
     "output_type": "stream",
     "text": [
      "100%|██████████| 33/33 [00:26<00:00,  1.26it/s]\n",
      " 50%|█████     | 5/10 [45:41<45:41, 548.23s/it]"
     ]
    },
    {
     "name": "stdout",
     "output_type": "stream",
     "text": [
      "\n",
      "Epoch 5\n",
      "Training Loss: 0.3701 |Train Accuracy: 0.9154\n",
      "Val Loss: 0.5620 | Val Accuracy: 0.7985\n",
      "✅ Saved best model at epoch 5 (Val Acc: 0.7985)\n"
     ]
    },
    {
     "name": "stderr",
     "output_type": "stream",
     "text": [
      "100%|██████████| 33/33 [00:26<00:00,  1.26it/s]\n",
      " 60%|██████    | 6/10 [54:49<36:32, 548.15s/it]"
     ]
    },
    {
     "name": "stdout",
     "output_type": "stream",
     "text": [
      "\n",
      "Epoch 6\n",
      "Training Loss: 0.2876 |Train Accuracy: 0.9468\n",
      "Val Loss: 0.5464 | Val Accuracy: 0.8042\n",
      "✅ Saved best model at epoch 6 (Val Acc: 0.8042)\n"
     ]
    },
    {
     "name": "stderr",
     "output_type": "stream",
     "text": [
      "100%|██████████| 33/33 [00:26<00:00,  1.26it/s]\n",
      " 70%|███████   | 7/10 [1:03:57<27:24, 548.12s/it]"
     ]
    },
    {
     "name": "stdout",
     "output_type": "stream",
     "text": [
      "\n",
      "Epoch 7\n",
      "Training Loss: 0.2290 |Train Accuracy: 0.9435\n",
      "Val Loss: 0.5976 | Val Accuracy: 0.7947\n"
     ]
    },
    {
     "name": "stderr",
     "output_type": "stream",
     "text": [
      "100%|██████████| 33/33 [00:26<00:00,  1.26it/s]\n",
      " 80%|████████  | 8/10 [1:13:05<18:16, 548.08s/it]"
     ]
    },
    {
     "name": "stdout",
     "output_type": "stream",
     "text": [
      "\n",
      "Epoch 8\n",
      "Training Loss: 0.1770 |Train Accuracy: 0.9615\n",
      "Val Loss: 0.6278 | Val Accuracy: 0.7928\n"
     ]
    },
    {
     "name": "stderr",
     "output_type": "stream",
     "text": [
      "100%|██████████| 33/33 [00:26<00:00,  1.26it/s]\n",
      " 90%|█████████ | 9/10 [1:22:13<09:08, 548.04s/it]"
     ]
    },
    {
     "name": "stdout",
     "output_type": "stream",
     "text": [
      "\n",
      "Epoch 9\n",
      "Training Loss: 0.1466 |Train Accuracy: 0.9765\n",
      "Val Loss: 0.6346 | Val Accuracy: 0.8061\n",
      "✅ Saved best model at epoch 9 (Val Acc: 0.8061)\n"
     ]
    },
    {
     "name": "stderr",
     "output_type": "stream",
     "text": [
      "100%|██████████| 33/33 [00:26<00:00,  1.26it/s]\n",
      "100%|██████████| 10/10 [1:31:21<00:00, 548.17s/it]"
     ]
    },
    {
     "name": "stdout",
     "output_type": "stream",
     "text": [
      "\n",
      "Epoch 10\n",
      "Training Loss: 0.1239 |Train Accuracy: 0.9751\n",
      "Val Loss: 0.6523 | Val Accuracy: 0.7928\n",
      "✅ Saved training results to training_results.csv\n"
     ]
    },
    {
     "name": "stderr",
     "output_type": "stream",
     "text": [
      "\n"
     ]
    }
   ],
   "source": [
    "from tqdm import tqdm\n",
    "import pandas as pd\n",
    "\n",
    "history = []\n",
    "\n",
    "for epoch in tqdm(range(1, epochs + 1)):\n",
    "    model.train()\n",
    "    loss_train_total = 0\n",
    "    progress_bar = tqdm(dataloader_train, desc=f\"Epoch {epoch}\", leave=False)\n",
    "\n",
    "    for batch in progress_bar:\n",
    "        model.zero_grad()\n",
    "        batch = tuple(b.to(device) for b in batch)\n",
    "        inputs = {\n",
    "            \"input_ids\": batch[0],\n",
    "            \"attention_mask\": batch[1],\n",
    "            \"labels\": batch[2]\n",
    "        }\n",
    "        outputs = model(**inputs)\n",
    "        loss = outputs[0]\n",
    "        loss_train_total += loss.item()\n",
    "        loss.backward()\n",
    "        torch.nn.utils.clip_grad_norm(model.parameters(), 1.0)\n",
    "        optimizer.step()\n",
    "        scheduler.step()\n",
    "\n",
    "        progress_bar.set_postfix({'training_loss': '{:.3f}'.format(loss.item())})\n",
    "\n",
    "    # === Summary this epoch ===\n",
    "    loss_train_avg = loss_train_total / len(dataloader_train)\n",
    "    train_losses.append(loss_train_avg)\n",
    "\n",
    "    val_loss, predictions, true_vals = evaluate(dataloader_val)\n",
    "    val_acc = accuracy_score_func(predictions, true_vals)\n",
    "    train_acc = get_accuracy_from_dataloader(dataloader_train)\n",
    "    train_accuracies.append(train_acc)\n",
    "    val_losses.append(val_loss)\n",
    "    val_accuracies.append(val_acc)\n",
    "\n",
    "    tqdm.write(f\"\\nEpoch {epoch}\")\n",
    "    tqdm.write(f\"Training Loss: {loss_train_avg:.4f} |Train Accuracy: {train_acc:.4f}\")\n",
    "    tqdm.write(f\"Val Loss: {val_loss:.4f} | Val Accuracy: {val_acc:.4f}\")\n",
    "\n",
    "    \n",
    "\n",
    "    history.append({\n",
    "    'epoch': epoch,\n",
    "    'train_loss': loss_train_avg,\n",
    "    'val_loss': val_loss,\n",
    "    'train_acc': train_acc,\n",
    "    'val_acc': val_acc\n",
    "    })\n",
    "\n",
    "    # === Save best model ===\n",
    "    if val_acc > best_val_acc:\n",
    "        best_val_acc = val_acc\n",
    "        best_model_state = model.state_dict()\n",
    "        tqdm.write(f\"✅ Saved best model at epoch {epoch} (Val Acc: {val_acc:.4f})\")\n",
    "\n",
    "# save result to CSV\n",
    "df_history = pd.DataFrame(history)\n",
    "df_history.to_csv(r\"results\\training_results.csv\", index=False)\n",
    "print(\"✅ Saved training results to training_results.csv\")"
   ]
  },
  {
   "cell_type": "code",
   "execution_count": null,
   "id": "d247f9b4",
   "metadata": {},
   "outputs": [
    {
     "data": {
      "text/plain": [
       "('bert_finetuned_new\\\\tokenizer_config.json',\n",
       " 'bert_finetuned_new\\\\special_tokens_map.json',\n",
       " 'bert_finetuned_new\\\\vocab.txt',\n",
       " 'bert_finetuned_new\\\\added_tokens.json')"
      ]
     },
     "execution_count": 109,
     "metadata": {},
     "output_type": "execute_result"
    }
   ],
   "source": [
    "model.save_pretrained('bert_finetuned')\n",
    "tokenizer.save_pretrained('bert_finetuned')"
   ]
  },
  {
   "cell_type": "code",
   "execution_count": 110,
   "id": "2d8c1209",
   "metadata": {},
   "outputs": [
    {
     "data": {
      "image/png": "[encoded data removed]",
      "text/plain": [
       "<Figure size 800x500 with 1 Axes>"
      ]
     },
     "metadata": {
      "image/png": {
       "height": 473,
       "width": 775
      }
     },
     "output_type": "display_data"
    }
   ],
   "source": [
    "import matplotlib.pyplot as plt\n",
    "\n",
    "epochs_range = range(1, epochs + 1)\n",
    "\n",
    "plt.figure(figsize=(8, 5))\n",
    "plt.plot(epochs_range, train_accuracies, label='Train Accuracy')\n",
    "plt.plot(epochs_range, val_accuracies, label='Validation Accuracy')\n",
    "plt.title('Training vs Validation Accuracy')\n",
    "plt.xlabel('Epoch')\n",
    "plt.ylabel('Accuracy')\n",
    "plt.legend()\n",
    "plt.grid(True)\n",
    "plt.tight_layout()\n",
    "plt.savefig(r\"results\\accuracy_plot.png\", dpi=300, bbox_inches='tight')\n",
    "plt.show()"
   ]
  },
  {
   "cell_type": "code",
   "execution_count": null,
   "id": "35a9b134",
   "metadata": {},
   "outputs": [
    {
     "data": {
      "image/png": "[encoded data removed]",
      "text/plain": [
       "<Figure size 800x500 with 1 Axes>"
      ]
     },
     "metadata": {
      "image/png": {
       "height": 473,
       "width": 775
      }
     },
     "output_type": "display_data"
    }
   ],
   "source": [
    "import pandas as pd\n",
    "import matplotlib.pyplot as plt\n",
    "\n",
    "plt.figure(figsize=(8, 5))\n",
    "plt.plot(epochs_range, train_losses, label='Training Loss')\n",
    "plt.plot(epochs_range, val_losses, label='Validation Loss')\n",
    "plt.title('Training vs Validation Loss')\n",
    "plt.xlabel('Epoch')\n",
    "plt.ylabel('Loss')\n",
    "plt.legend()\n",
    "plt.grid(True)\n",
    "plt.tight_layout()\n",
    "plt.savefig(r\"results\\loss_plot.png\", dpi=300, bbox_inches='tight')\n",
    "plt.show()\n"
   ]
  },
  {
   "cell_type": "markdown",
   "id": "e38574fe",
   "metadata": {},
   "source": [
    "Evaluation"
   ]
  },
  {
   "cell_type": "code",
   "execution_count": 118,
   "id": "3c551602",
   "metadata": {},
   "outputs": [],
   "source": [
    "from transformers import AutoModelForSequenceClassification, AutoTokenizer\n",
    "\n",
    "model = AutoModelForSequenceClassification.from_pretrained(\"bert_finetuned\")\n",
    "tokenizer = AutoTokenizer.from_pretrained(\"bert_finetuned\")"
   ]
  },
  {
   "cell_type": "code",
   "execution_count": 119,
   "id": "0fae8d50",
   "metadata": {},
   "outputs": [],
   "source": [
    "from sklearn.metrics import classification_report\n",
    "\n",
    "def get_classification_report(preds, labels, label_names=None):\n",
    "    preds_flat = np.argmax(preds, axis=1).flatten()\n",
    "    labels_flat = labels.flatten()\n",
    "    report = classification_report(labels_flat, preds_flat, target_names=label_names)\n",
    "    return report"
   ]
  },
  {
   "cell_type": "code",
   "execution_count": 131,
   "id": "332e6250",
   "metadata": {},
   "outputs": [
    {
     "ename": "TypeError",
     "evalue": "Expected state_dict to be dict-like, got <class 'NoneType'>.",
     "output_type": "error",
     "traceback": [
      "\u001b[31m---------------------------------------------------------------------------\u001b[39m",
      "\u001b[31mTypeError\u001b[39m                                 Traceback (most recent call last)",
      "\u001b[36mCell\u001b[39m\u001b[36m \u001b[39m\u001b[32mIn[131]\u001b[39m\u001b[32m, line 2\u001b[39m\n\u001b[32m      1\u001b[39m \u001b[38;5;66;03m# load best model\u001b[39;00m\n\u001b[32m----> \u001b[39m\u001b[32m2\u001b[39m \u001b[43mmodel\u001b[49m\u001b[43m.\u001b[49m\u001b[43mload_state_dict\u001b[49m\u001b[43m(\u001b[49m\u001b[43mbest_model_state\u001b[49m\u001b[43m)\u001b[49m\n\u001b[32m      3\u001b[39m model.eval()\n\u001b[32m      5\u001b[39m \u001b[38;5;66;03m# evaluate\u001b[39;00m\n",
      "\u001b[36mFile \u001b[39m\u001b[32mc:\\Users\\prig1\\miniconda3\\envs\\IRtest\\Lib\\site-packages\\torch\\nn\\modules\\module.py:2525\u001b[39m, in \u001b[36mModule.load_state_dict\u001b[39m\u001b[34m(self, state_dict, strict, assign)\u001b[39m\n\u001b[32m   2488\u001b[39m \u001b[38;5;250m\u001b[39m\u001b[33mr\u001b[39m\u001b[33;03m\"\"\"Copy parameters and buffers from :attr:`state_dict` into this module and its descendants.\u001b[39;00m\n\u001b[32m   2489\u001b[39m \n\u001b[32m   2490\u001b[39m \u001b[33;03mIf :attr:`strict` is ``True``, then\u001b[39;00m\n\u001b[32m   (...)\u001b[39m\u001b[32m   2522\u001b[39m \u001b[33;03m    ``RuntimeError``.\u001b[39;00m\n\u001b[32m   2523\u001b[39m \u001b[33;03m\"\"\"\u001b[39;00m\n\u001b[32m   2524\u001b[39m \u001b[38;5;28;01mif\u001b[39;00m \u001b[38;5;129;01mnot\u001b[39;00m \u001b[38;5;28misinstance\u001b[39m(state_dict, Mapping):\n\u001b[32m-> \u001b[39m\u001b[32m2525\u001b[39m     \u001b[38;5;28;01mraise\u001b[39;00m \u001b[38;5;167;01mTypeError\u001b[39;00m(\n\u001b[32m   2526\u001b[39m         \u001b[33mf\u001b[39m\u001b[33m\"\u001b[39m\u001b[33mExpected state_dict to be dict-like, got \u001b[39m\u001b[38;5;132;01m{\u001b[39;00m\u001b[38;5;28mtype\u001b[39m(state_dict)\u001b[38;5;132;01m}\u001b[39;00m\u001b[33m.\u001b[39m\u001b[33m\"\u001b[39m\n\u001b[32m   2527\u001b[39m     )\n\u001b[32m   2529\u001b[39m missing_keys: \u001b[38;5;28mlist\u001b[39m[\u001b[38;5;28mstr\u001b[39m] = []\n\u001b[32m   2530\u001b[39m unexpected_keys: \u001b[38;5;28mlist\u001b[39m[\u001b[38;5;28mstr\u001b[39m] = []\n",
      "\u001b[31mTypeError\u001b[39m: Expected state_dict to be dict-like, got <class 'NoneType'>."
     ]
    }
   ],
   "source": [
    "# load best model\n",
    "model.load_state_dict(best_model_state)\n",
    "model.eval()\n",
    "\n",
    "# evaluate\n",
    "test_loss, predictions, true_vals = evaluate(dataloader_test)\n",
    "\n",
    "# label names\n",
    "label_names = ['Depression', 'Normal', 'Suicidal', 'Anxiety', 'Bipolar', 'Stress', 'Personality disorder']\n",
    "\n",
    "# print report\n",
    "report = get_classification_report(predictions, true_vals, label_names=label_names)\n",
    "print(\"Classification Report:\\n\")\n",
    "print(report)"
   ]
  },
  {
   "cell_type": "code",
   "execution_count": 129,
   "id": "5d742d68",
   "metadata": {},
   "outputs": [
    {
     "ename": "NameError",
     "evalue": "name 'label_names' is not defined",
     "output_type": "error",
     "traceback": [
      "\u001b[31m---------------------------------------------------------------------------\u001b[39m",
      "\u001b[31mNameError\u001b[39m                                 Traceback (most recent call last)",
      "\u001b[36mCell\u001b[39m\u001b[36m \u001b[39m\u001b[32mIn[129]\u001b[39m\u001b[32m, line 6\u001b[39m\n\u001b[32m      1\u001b[39m \u001b[38;5;28;01mfrom\u001b[39;00m\u001b[38;5;250m \u001b[39m\u001b[34;01msklearn\u001b[39;00m\u001b[34;01m.\u001b[39;00m\u001b[34;01mmetrics\u001b[39;00m\u001b[38;5;250m \u001b[39m\u001b[38;5;28;01mimport\u001b[39;00m classification_report\n\u001b[32m      2\u001b[39m \u001b[38;5;28;01mimport\u001b[39;00m\u001b[38;5;250m \u001b[39m\u001b[34;01mpandas\u001b[39;00m\u001b[38;5;250m \u001b[39m\u001b[38;5;28;01mas\u001b[39;00m\u001b[38;5;250m \u001b[39m\u001b[34;01mpd\u001b[39;00m\n\u001b[32m      4\u001b[39m report_dict = classification_report(true_vals, \n\u001b[32m      5\u001b[39m                                     np.argmax(predictions, axis=\u001b[32m1\u001b[39m), \n\u001b[32m----> \u001b[39m\u001b[32m6\u001b[39m                                     target_names=\u001b[43mlabel_names\u001b[49m, \n\u001b[32m      7\u001b[39m                                     output_dict=\u001b[38;5;28;01mTrue\u001b[39;00m)\n\u001b[32m      9\u001b[39m report_df = pd.DataFrame(report_dict).transpose()\n\u001b[32m     10\u001b[39m report_df.to_latex(\u001b[33m\"\u001b[39m\u001b[33mresults\u001b[39m\u001b[33m\\\u001b[39m\u001b[33mBERT_classification_report.tex\u001b[39m\u001b[33m\"\u001b[39m, float_format=\u001b[33m\"\u001b[39m\u001b[38;5;132;01m%.2f\u001b[39;00m\u001b[33m\"\u001b[39m)\n",
      "\u001b[31mNameError\u001b[39m: name 'label_names' is not defined"
     ]
    }
   ],
   "source": [
    "from sklearn.metrics import classification_report\n",
    "import pandas as pd\n",
    "\n",
    "report_dict = classification_report(true_vals, \n",
    "                                    np.argmax(predictions, axis=1), \n",
    "                                    target_names=label_names, \n",
    "                                    output_dict=True)\n",
    "\n",
    "report_df = pd.DataFrame(report_dict).transpose()\n",
    "report_df.to_latex(\"results\\BERT_classification_report.tex\", float_format=\"%.2f\")\n"
   ]
  }
 ],
 "metadata": {
  "kernelspec": {
   "display_name": "IRtest",
   "language": "python",
   "name": "python3"
  },
  "language_info": {
   "codemirror_mode": {
    "name": "ipython",
    "version": 3
   },
   "file_extension": ".py",
   "mimetype": "text/x-python",
   "name": "python",
   "nbconvert_exporter": "python",
   "pygments_lexer": "ipython3",
   "version": "3.11.11"
  }
 },
 "nbformat": 4,
 "nbformat_minor": 5
}
